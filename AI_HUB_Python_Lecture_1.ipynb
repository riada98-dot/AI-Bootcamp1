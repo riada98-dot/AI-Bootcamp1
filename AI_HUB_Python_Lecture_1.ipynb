{
  "nbformat": 4,
  "nbformat_minor": 0,
  "metadata": {
    "colab": {
      "provenance": [],
      "include_colab_link": true
    },
    "kernelspec": {
      "name": "python3",
      "display_name": "Python 3"
    },
    "language_info": {
      "name": "python"
    }
  },
  "cells": [
    {
      "cell_type": "markdown",
      "metadata": {
        "id": "view-in-github",
        "colab_type": "text"
      },
      "source": [
        "<a href=\"https://colab.research.google.com/github/riada98-dot/AI-Bootcamp1/blob/main/AI_HUB_Python_Lecture_1.ipynb\" target=\"_parent\"><img src=\"https://colab.research.google.com/assets/colab-badge.svg\" alt=\"Open In Colab\"/></a>"
      ]
    },
    {
      "cell_type": "markdown",
      "source": [
        "# Python Printing and Variables"
      ],
      "metadata": {
        "id": "CQiMkv4c-eAd"
      }
    },
    {
      "cell_type": "code",
      "execution_count": null,
      "metadata": {
        "id": "m8G-XeX7R2as",
        "colab": {
          "base_uri": "https://localhost:8080/"
        },
        "outputId": "15b41972-ab1d-44f6-b49f-b2dad158acfd"
      },
      "outputs": [
        {
          "output_type": "stream",
          "name": "stdout",
          "text": [
            "Hello World!\n"
          ]
        }
      ],
      "source": [
        "#print fuinction\n",
        "print(\"Hello World!\")"
      ]
    },
    {
      "cell_type": "code",
      "source": [
        "# Definition of variables\n",
        "x=10\n",
        "print(x)\n",
        "\n",
        "y=20\n",
        "print(y)\n",
        "\n",
        "z=x+y\n",
        "print(z)"
      ],
      "metadata": {
        "colab": {
          "base_uri": "https://localhost:8080/"
        },
        "id": "TVoc0wtWCQPU",
        "outputId": "1cf30d5c-d378-484c-8c5f-7d4c8df544da"
      },
      "execution_count": null,
      "outputs": [
        {
          "output_type": "stream",
          "name": "stdout",
          "text": [
            "10\n",
            "20\n",
            "30\n"
          ]
        }
      ]
    },
    {
      "cell_type": "code",
      "source": [
        "num1=10\n",
        "num2=20\n",
        "num3=num1/num2\n",
        "mytext=\"engineering\"\n",
        "mybool=True\n",
        "\n",
        "#print the type of different variables.\n",
        "print(type(num1))\n",
        "print(type(num3))\n",
        "print(type(mytext))\n",
        "print(type(mybool))"
      ],
      "metadata": {
        "colab": {
          "base_uri": "https://localhost:8080/"
        },
        "id": "HzTkIlDyCXeG",
        "outputId": "97b4e8e1-d604-4321-d06a-75f89f024abc"
      },
      "execution_count": null,
      "outputs": [
        {
          "output_type": "stream",
          "name": "stdout",
          "text": [
            "<class 'int'>\n",
            "<class 'float'>\n",
            "<class 'str'>\n",
            "<class 'bool'>\n"
          ]
        }
      ]
    },
    {
      "cell_type": "code",
      "source": [
        "# Prints the length of the string\n",
        "x=\"Hello World\"\n",
        "len(x)"
      ],
      "metadata": {
        "colab": {
          "base_uri": "https://localhost:8080/"
        },
        "id": "D8LLtJn0DVFy",
        "outputId": "ce3d0a86-289b-44e5-adb2-45df786d04bb"
      },
      "execution_count": null,
      "outputs": [
        {
          "output_type": "execute_result",
          "data": {
            "text/plain": [
              "11"
            ]
          },
          "metadata": {},
          "execution_count": 31
        }
      ]
    },
    {
      "cell_type": "code",
      "source": [
        "#Converts a string to uppercase and lowercase and prints both\n",
        "x.upper()\n",
        "print(x.upper())\n",
        "\n",
        "x.lower()\n",
        "print(x.lower())"
      ],
      "metadata": {
        "colab": {
          "base_uri": "https://localhost:8080/"
        },
        "id": "VroqanE2Y3OX",
        "outputId": "9f506a29-4bd3-4216-fd7b-165c0f0361a5"
      },
      "execution_count": null,
      "outputs": [
        {
          "output_type": "stream",
          "name": "stdout",
          "text": [
            "HELLO WORLD\n",
            "hello world\n"
          ]
        }
      ]
    },
    {
      "cell_type": "markdown",
      "source": [
        "_________________________________________________________________"
      ],
      "metadata": {
        "id": "S0b0Gv3_aRBU"
      }
    },
    {
      "cell_type": "markdown",
      "source": [
        "concatenation function"
      ],
      "metadata": {
        "id": "EbNTSZVrMSC0"
      }
    },
    {
      "cell_type": "code",
      "source": [
        "# how to concatenate strings and add numbers\n",
        "print(\"hello\"+\" \"+\"world\")\n",
        "print(20+8)"
      ],
      "metadata": {
        "colab": {
          "base_uri": "https://localhost:8080/"
        },
        "id": "nVN6yQgEHvjm",
        "outputId": "72eb6759-8173-4cec-fda2-c933c8d3d473"
      },
      "execution_count": null,
      "outputs": [
        {
          "output_type": "stream",
          "name": "stdout",
          "text": [
            "hello world\n",
            "28\n"
          ]
        }
      ]
    },
    {
      "cell_type": "code",
      "source": [
        "# Correct way by using str() to convert integer to string\n",
        "print(\"hello\"+str(20)) #or\n",
        "print(\"hello\"+\"20\")"
      ],
      "metadata": {
        "colab": {
          "base_uri": "https://localhost:8080/"
        },
        "id": "t4SuyGVOMHFf",
        "outputId": "cb539273-ca67-428d-c5cb-6944cf82c614"
      },
      "execution_count": null,
      "outputs": [
        {
          "output_type": "stream",
          "name": "stdout",
          "text": [
            "hello20\n",
            "hello20\n"
          ]
        }
      ]
    },
    {
      "cell_type": "markdown",
      "source": [
        "\n",
        " Boolean and comparison operators"
      ],
      "metadata": {
        "id": "IhPDWbbuepU2"
      }
    },
    {
      "cell_type": "code",
      "source": [
        "# use of relational operators and prints the results.\n",
        "x=1>5\n",
        "print(x)\n",
        "\n",
        "\n",
        "x=1<5\n",
        "print(x)\n",
        "\n",
        "\n",
        "x= 1<=5\n",
        "print(x)\n",
        "\n",
        "\n",
        "x= 1!=5\n",
        "print(x)\n"
      ],
      "metadata": {
        "colab": {
          "base_uri": "https://localhost:8080/"
        },
        "id": "KiB2SuVSNfy1",
        "outputId": "3b4758f4-c9a5-4213-f457-24e536702996"
      },
      "execution_count": null,
      "outputs": [
        {
          "output_type": "stream",
          "name": "stdout",
          "text": [
            "False\n",
            "True\n",
            "True\n",
            "True\n"
          ]
        }
      ]
    },
    {
      "cell_type": "markdown",
      "source": [
        "# Python Data Structures"
      ],
      "metadata": {
        "id": "_nYbL0wwyP9f"
      }
    },
    {
      "cell_type": "markdown",
      "source": [
        "## List"
      ],
      "metadata": {
        "id": "akCSCseja5kE"
      }
    },
    {
      "cell_type": "code",
      "source": [
        "name1=\"ali\"\n",
        "name2=\"ahmed\"\n",
        "name3=\"hassan\"\n",
        "\n",
        "print(name1)\n",
        "print(name2)\n",
        "print(name3)"
      ],
      "metadata": {
        "id": "TpZaz61_jQCz",
        "outputId": "e0895ab0-4e5c-44d4-8529-616765fbed6e",
        "colab": {
          "base_uri": "https://localhost:8080/"
        }
      },
      "execution_count": null,
      "outputs": [
        {
          "output_type": "stream",
          "name": "stdout",
          "text": [
            "ali\n",
            "ahmed\n",
            "hassan\n"
          ]
        }
      ]
    },
    {
      "cell_type": "code",
      "source": [
        "#list\n",
        "students=[\"ali\",\"rawan\",\"yasmeen\",\"ahmad\",\"noor\",\"hassan\",\"jasser\",\"alaa\",\"kareem\",\"ayah\"]\n",
        "print(students)"
      ],
      "metadata": {
        "colab": {
          "base_uri": "https://localhost:8080/"
        },
        "id": "VIYNGVxbebfj",
        "outputId": "b53c0d84-8397-4b91-cde8-7cee7777fb2e"
      },
      "execution_count": null,
      "outputs": [
        {
          "output_type": "stream",
          "name": "stdout",
          "text": [
            "['ali', 'rawan', 'yasmeen', 'ahmad', 'noor', 'hassan', 'jasser', 'alaa', 'kareem', 'ayah']\n"
          ]
        }
      ]
    },
    {
      "cell_type": "code",
      "source": [
        "print(students[0])      # Accesses the first element of the list\n",
        "print(students [3])     #Accesses the fourth element of the list\n",
        "print(students [-1])    #Accesses the last element of the list\n",
        "print(students[0:5])    #Accesses the first 5 elements of the list\n",
        "print(students[:5])     #Accesses the first 5 elements of the list\n",
        "print(students[1:])     #Accesses the second element to the last element\n",
        "print(students[0:9:2])  #Accesses every second element of the list"
      ],
      "metadata": {
        "colab": {
          "base_uri": "https://localhost:8080/"
        },
        "id": "38dAWs3JuHgU",
        "outputId": "69410b68-495a-4b04-fe97-95f85cf52547"
      },
      "execution_count": null,
      "outputs": [
        {
          "output_type": "stream",
          "name": "stdout",
          "text": [
            "ali\n",
            "ahmad\n",
            "ayah\n",
            "['ali', 'rawan', 'yasmeen', 'ahmad', 'noor']\n",
            "['ali', 'rawan', 'yasmeen', 'ahmad', 'noor']\n",
            "['rawan', 'yasmeen', 'ahmad', 'noor', 'hassan', 'jasser', 'alaa', 'kareem', 'ayah']\n",
            "['ali', 'yasmeen', 'noor', 'jasser', 'kareem']\n"
          ]
        }
      ]
    },
    {
      "cell_type": "code",
      "source": [
        "print(students)      #Accesses all the elements of the list\n",
        "print(students[:])   #Accesses all the elements of the list\n",
        "print(students[0:])  #Accesses all the elements of the list\n",
        "\n",
        "#These methods have the same result."
      ],
      "metadata": {
        "colab": {
          "base_uri": "https://localhost:8080/"
        },
        "id": "DQU0plBTfIbQ",
        "outputId": "826f57c3-33d7-4373-d29d-dbd1800a1805"
      },
      "execution_count": null,
      "outputs": [
        {
          "output_type": "stream",
          "name": "stdout",
          "text": [
            "['ali', 'rawan', 'yasmeen', 'ahmad', 'noor', 'hassan', 'jasser', 'alaa', 'kareem', 'ayah']\n",
            "['ali', 'rawan', 'yasmeen', 'ahmad', 'noor', 'hassan', 'jasser', 'alaa', 'kareem', 'ayah']\n",
            "['ali', 'rawan', 'yasmeen', 'ahmad', 'noor', 'hassan', 'jasser', 'alaa', 'kareem', 'ayah']\n"
          ]
        }
      ]
    },
    {
      "cell_type": "code",
      "source": [
        "employee=[\"kareem\", 25 , \"medical engineering\"]\n",
        "\n",
        "\n",
        "print(type(employee))         # List type\n",
        "print(type(employee[0]))      # String type\n",
        "print(type(employee[1]))      # Integer type\n",
        "\n",
        "print(len(employee))          # Returns the length of the list\n"
      ],
      "metadata": {
        "colab": {
          "base_uri": "https://localhost:8080/"
        },
        "id": "rmrjr4sMbO1z",
        "outputId": "cdb9e8a3-02b6-4c28-bbcc-79c547386949"
      },
      "execution_count": null,
      "outputs": [
        {
          "output_type": "stream",
          "name": "stdout",
          "text": [
            "<class 'list'>\n",
            "<class 'str'>\n",
            "<class 'int'>\n",
            "3\n"
          ]
        }
      ]
    },
    {
      "cell_type": "code",
      "source": [
        "print(employee.reverse())        # Reverses the list\n",
        "print(employee)"
      ],
      "metadata": {
        "colab": {
          "base_uri": "https://localhost:8080/"
        },
        "id": "cbqKH0xYhEhC",
        "outputId": "54a27ad3-76e3-46a4-8360-ef43cb6c721d"
      },
      "execution_count": null,
      "outputs": [
        {
          "output_type": "stream",
          "name": "stdout",
          "text": [
            "None\n",
            "['medical engineering', 25, 'kareem']\n"
          ]
        }
      ]
    },
    {
      "cell_type": "code",
      "source": [
        "print(employee.append(500))     #add element at the end of the list\n",
        "print(employee)\n",
        "\n",
        "\n",
        "employee.remove(\"kareem\")       #delete element from the list\n",
        "print(employee)\n",
        "\n",
        "\n",
        "employee.insert(0, \"kareem\")    #insert element at the specified index\n",
        "print(employee)\n",
        "\n",
        "\n",
        "employee[1]=\"30\"                #change element at the specified index\n",
        "print(employee)"
      ],
      "metadata": {
        "colab": {
          "base_uri": "https://localhost:8080/"
        },
        "id": "tChrk2qiE2Np",
        "outputId": "a9c006a0-76a6-445a-8762-71466b6e18ef"
      },
      "execution_count": null,
      "outputs": [
        {
          "output_type": "stream",
          "name": "stdout",
          "text": [
            "None\n",
            "['kareem', 25, 'medical engineering']\n",
            "None\n",
            "['kareem', 25, 'medical engineering', 500]\n",
            "[25, 'medical engineering', 500]\n",
            "['kareem', 25, 'medical engineering', 500]\n",
            "['kareem', '30', 'medical engineering', 500]\n"
          ]
        }
      ]
    },
    {
      "cell_type": "markdown",
      "source": [
        "## Tuple"
      ],
      "metadata": {
        "id": "p_quMASvWw3U"
      }
    },
    {
      "cell_type": "markdown",
      "source": [
        "The advantage of a tuple is that it cannot be modified or items added to it"
      ],
      "metadata": {
        "id": "7spgdGn4SzTf"
      }
    },
    {
      "cell_type": "code",
      "source": [
        "tuple1= (1,2,3,4,5,6)"
      ],
      "metadata": {
        "id": "4uOyD6jGwm79"
      },
      "execution_count": null,
      "outputs": []
    },
    {
      "cell_type": "code",
      "source": [
        "# Error: Tuple has no attribute 'append'\n",
        "tuple1.append(10)"
      ],
      "metadata": {
        "colab": {
          "base_uri": "https://localhost:8080/",
          "height": 176
        },
        "id": "l4fctcIHVw8o",
        "outputId": "0be844c4-6106-479e-b4ce-14d2c4530369"
      },
      "execution_count": null,
      "outputs": [
        {
          "output_type": "error",
          "ename": "AttributeError",
          "evalue": "'tuple' object has no attribute 'append'",
          "traceback": [
            "\u001b[0;31m---------------------------------------------------------------------------\u001b[0m",
            "\u001b[0;31mAttributeError\u001b[0m                            Traceback (most recent call last)",
            "\u001b[0;32m<ipython-input-6-202fa47c7515>\u001b[0m in \u001b[0;36m<cell line: 0>\u001b[0;34m()\u001b[0m\n\u001b[1;32m      1\u001b[0m \u001b[0;31m# # Error: Tuples do not support item assignment or modification\u001b[0m\u001b[0;34m\u001b[0m\u001b[0;34m\u001b[0m\u001b[0m\n\u001b[1;32m      2\u001b[0m \u001b[0mtuple1\u001b[0m\u001b[0;34m=\u001b[0m \u001b[0;34m(\u001b[0m\u001b[0;36m1\u001b[0m\u001b[0;34m,\u001b[0m\u001b[0;36m2\u001b[0m\u001b[0;34m,\u001b[0m\u001b[0;36m3\u001b[0m\u001b[0;34m,\u001b[0m\u001b[0;36m4\u001b[0m\u001b[0;34m,\u001b[0m\u001b[0;36m5\u001b[0m\u001b[0;34m,\u001b[0m\u001b[0;36m6\u001b[0m\u001b[0;34m)\u001b[0m\u001b[0;34m\u001b[0m\u001b[0;34m\u001b[0m\u001b[0m\n\u001b[0;32m----> 3\u001b[0;31m \u001b[0mtuple1\u001b[0m\u001b[0;34m.\u001b[0m\u001b[0mappend\u001b[0m\u001b[0;34m(\u001b[0m\u001b[0;36m10\u001b[0m\u001b[0;34m)\u001b[0m\u001b[0;34m\u001b[0m\u001b[0;34m\u001b[0m\u001b[0m\n\u001b[0m",
            "\u001b[0;31mAttributeError\u001b[0m: 'tuple' object has no attribute 'append'"
          ]
        }
      ]
    },
    {
      "cell_type": "code",
      "source": [
        "## # Error: Tuple do not support item assignment or modification\n",
        "tuple1[1]=10"
      ],
      "metadata": {
        "colab": {
          "base_uri": "https://localhost:8080/",
          "height": 158
        },
        "id": "vC7hM5EfXJ2z",
        "outputId": "32170775-c29e-4ac7-c38a-892dc5fc5a70"
      },
      "execution_count": null,
      "outputs": [
        {
          "output_type": "error",
          "ename": "TypeError",
          "evalue": "'tuple' object does not support item assignment",
          "traceback": [
            "\u001b[0;31m---------------------------------------------------------------------------\u001b[0m",
            "\u001b[0;31mTypeError\u001b[0m                                 Traceback (most recent call last)",
            "\u001b[0;32m<ipython-input-29-abf0787c85ba>\u001b[0m in \u001b[0;36m<cell line: 2>\u001b[0;34m()\u001b[0m\n\u001b[1;32m      1\u001b[0m \u001b[0;31m## # Error: Tuples do not support item assignment or modification\u001b[0m\u001b[0;34m\u001b[0m\u001b[0;34m\u001b[0m\u001b[0m\n\u001b[0;32m----> 2\u001b[0;31m \u001b[0mtuple1\u001b[0m\u001b[0;34m[\u001b[0m\u001b[0;36m1\u001b[0m\u001b[0;34m]\u001b[0m\u001b[0;34m=\u001b[0m\u001b[0;36m10\u001b[0m\u001b[0;34m\u001b[0m\u001b[0;34m\u001b[0m\u001b[0m\n\u001b[0m",
            "\u001b[0;31mTypeError\u001b[0m: 'tuple' object does not support item assignment"
          ]
        }
      ]
    },
    {
      "cell_type": "markdown",
      "source": [
        "## Set"
      ],
      "metadata": {
        "id": "BJqByGP0Y6kJ"
      }
    },
    {
      "cell_type": "markdown",
      "source": [
        "A set is an unordered collection of unique elements\n"
      ],
      "metadata": {
        "id": "9WpvOEOtUKsG"
      }
    },
    {
      "cell_type": "code",
      "source": [
        "s={1,3,4,5,6,7,8}\n",
        "print(s)"
      ],
      "metadata": {
        "id": "HLLi1w6PYZcB",
        "colab": {
          "base_uri": "https://localhost:8080/"
        },
        "outputId": "6bd6773a-b5cf-4d6e-dbb6-f18083cd30c0"
      },
      "execution_count": null,
      "outputs": [
        {
          "output_type": "stream",
          "name": "stdout",
          "text": [
            "{1, 3, 4, 5, 6, 7, 8}\n"
          ]
        }
      ]
    },
    {
      "cell_type": "code",
      "source": [
        "s.add(10)\n",
        "print(s)"
      ],
      "metadata": {
        "colab": {
          "base_uri": "https://localhost:8080/"
        },
        "id": "2DjJafrwY_pQ",
        "outputId": "25e3358e-52b4-4c49-d766-34bc2fdc372e"
      },
      "execution_count": null,
      "outputs": [
        {
          "output_type": "stream",
          "name": "stdout",
          "text": [
            "{1, 3, 4, 5, 6, 7, 8, 10}\n"
          ]
        }
      ]
    },
    {
      "cell_type": "code",
      "source": [
        "s.add(1)  # Attempts to add 1, but it already exists in the set\n",
        "print(s)  # Set remains unchanged because sets do not allow duplicates"
      ],
      "metadata": {
        "colab": {
          "base_uri": "https://localhost:8080/"
        },
        "id": "E1QHNQe0ZFbQ",
        "outputId": "e75f9628-59c0-47cb-d2d6-157bcda547cc"
      },
      "execution_count": null,
      "outputs": [
        {
          "output_type": "stream",
          "name": "stdout",
          "text": [
            "{1, 3, 4, 5, 6, 7, 8, 10}\n"
          ]
        }
      ]
    },
    {
      "cell_type": "code",
      "source": [
        "s.remove(1)  # Removes the element 1 from the set\n",
        "print(s)"
      ],
      "metadata": {
        "colab": {
          "base_uri": "https://localhost:8080/"
        },
        "id": "ovy-RPqUk7hJ",
        "outputId": "2ca46f30-e9e2-4dae-fcbd-37e065bc9832"
      },
      "execution_count": null,
      "outputs": [
        {
          "output_type": "stream",
          "name": "stdout",
          "text": [
            "{3, 4, 5, 6, 7, 8}\n"
          ]
        }
      ]
    },
    {
      "cell_type": "code",
      "source": [
        "s.clear()  # Clears the set\n",
        "print(s)"
      ],
      "metadata": {
        "colab": {
          "base_uri": "https://localhost:8080/"
        },
        "id": "LYcE93iDlCRV",
        "outputId": "80801797-f410-4b7b-a21c-0163e81cc8b8"
      },
      "execution_count": null,
      "outputs": [
        {
          "output_type": "stream",
          "name": "stdout",
          "text": [
            "set()\n"
          ]
        }
      ]
    },
    {
      "cell_type": "markdown",
      "source": [
        "## Dectionary"
      ],
      "metadata": {
        "id": "r7UTfLTYY_D-"
      }
    },
    {
      "cell_type": "code",
      "source": [
        "d={\"name \":\"ali\",\"age \":25}\n",
        "\n",
        "print(d)\n",
        "\n",
        "print(d[\"name \"])             #print a value based on a key\n"
      ],
      "metadata": {
        "colab": {
          "base_uri": "https://localhost:8080/"
        },
        "id": "pERL-2tUoeDz",
        "outputId": "6fde95d6-a481-4703-853b-c07247bc0b42"
      },
      "execution_count": null,
      "outputs": [
        {
          "output_type": "stream",
          "name": "stdout",
          "text": [
            "{'name ': 'ali', 'age ': 25}\n",
            "ali\n"
          ]
        }
      ]
    },
    {
      "cell_type": "code",
      "source": [
        "d.keys()  # Print the keys of the dictionary"
      ],
      "metadata": {
        "colab": {
          "base_uri": "https://localhost:8080/"
        },
        "id": "OhGnPP_ro2UE",
        "outputId": "dabb0a65-ccaf-4a7a-9490-379c0625e9b6"
      },
      "execution_count": null,
      "outputs": [
        {
          "output_type": "execute_result",
          "data": {
            "text/plain": [
              "dict_keys(['name', 'age'])"
            ]
          },
          "metadata": {},
          "execution_count": 21
        }
      ]
    },
    {
      "cell_type": "code",
      "source": [
        "d.values()  # Print the values of the dictionary"
      ],
      "metadata": {
        "colab": {
          "base_uri": "https://localhost:8080/"
        },
        "id": "JdFi2F9PpEqT",
        "outputId": "52ecbeba-759b-4f34-cd7e-b2c286257649"
      },
      "execution_count": null,
      "outputs": [
        {
          "output_type": "execute_result",
          "data": {
            "text/plain": [
              "dict_values(['ali', 25])"
            ]
          },
          "metadata": {},
          "execution_count": 22
        }
      ]
    },
    {
      "cell_type": "code",
      "source": [
        "del d['name ']  # Delete the 'name' entry from the dictionary\n",
        "print(d)"
      ],
      "metadata": {
        "colab": {
          "base_uri": "https://localhost:8080/"
        },
        "id": "AbNsVc9_pHAj",
        "outputId": "0bcd920e-b948-47f2-86b0-c349dd1569d2"
      },
      "execution_count": null,
      "outputs": [
        {
          "output_type": "stream",
          "name": "stdout",
          "text": [
            "{'age ': 25}\n"
          ]
        }
      ]
    },
    {
      "cell_type": "code",
      "source": [
        "d.update({\"major\":\"computer engineering\"})  # add a new key-value pair to the dictionary\n",
        "\n",
        "print(d)"
      ],
      "metadata": {
        "colab": {
          "base_uri": "https://localhost:8080/"
        },
        "id": "sV-oC-UW1hDX",
        "outputId": "d70c3649-d81e-4d21-95aa-ee0adfbc2b1a"
      },
      "execution_count": null,
      "outputs": [
        {
          "output_type": "stream",
          "name": "stdout",
          "text": [
            "{'name': 'ali', 'age': 25, 'major': 'computer engineering'}\n"
          ]
        }
      ]
    },
    {
      "cell_type": "code",
      "source": [
        "d.clear()  # Clear the dictionary\n",
        "print(d)"
      ],
      "metadata": {
        "colab": {
          "base_uri": "https://localhost:8080/"
        },
        "id": "LP6OC5N_mQ0N",
        "outputId": "c6491c43-80bd-4586-e1fc-0abb3fffffa3"
      },
      "execution_count": null,
      "outputs": [
        {
          "output_type": "stream",
          "name": "stdout",
          "text": [
            "{}\n"
          ]
        }
      ]
    }
  ]
}